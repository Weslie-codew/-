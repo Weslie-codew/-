{
 "cells": [
  {
   "cell_type": "code",
   "execution_count": null,
   "metadata": {},
   "outputs": [],
   "source": []
  },
  {
   "cell_type": "code",
   "execution_count": null,
   "metadata": {},
   "outputs": [],
   "source": []
  },
  {
   "cell_type": "code",
   "execution_count": 3,
   "metadata": {},
   "outputs": [
    {
     "name": "stdout",
     "output_type": "stream",
     "text": [
      "   Unnamed: 0 User_ID  Age  Gender  Location  Income   Interests  \\\n",
      "0           0      #1   56    Male  Suburban   38037      Sports   \n",
      "1           1      #2   46  Female     Rural  103986  Technology   \n",
      "2           2      #3   32  Female  Suburban  101942      Sports   \n",
      "3           3      #4   60  Female  Suburban   71612     Fashion   \n",
      "4           4      #5   25    Male  Suburban   49725      Travel   \n",
      "\n",
      "   Last_Login_Days_Ago  Purchase_Frequency  Average_Order_Value  \\\n",
      "0                    5                   7                   18   \n",
      "1                   15                   7                  118   \n",
      "2                   28                   1                  146   \n",
      "3                   18                   3                  163   \n",
      "4                    2                   5                  141   \n",
      "\n",
      "   Total_Spending Product_Category_Preference  Time_Spent_on_Site_Minutes  \\\n",
      "0            2546                       Books                         584   \n",
      "1             320                 Electronics                         432   \n",
      "2            3766                     Apparel                         306   \n",
      "3            4377                     Apparel                         527   \n",
      "4            4502             Health & Beauty                          53   \n",
      "\n",
      "   Pages_Viewed  Newsletter_Subscription  \n",
      "0            38                     True  \n",
      "1            40                    False  \n",
      "2             1                     True  \n",
      "3            29                    False  \n",
      "4            10                     True  \n"
     ]
    }
   ],
   "source": [
    "import pandas as pd\n",
    "\n",
    "# 加载数据\n",
    "file_path = '/home/wmy/Downloads/ecommerce_product_recommendation_collaborative.csv'\n",
    "data = pd.read_csv(file_path)\n",
    "\n",
    "# 查看数据的前几行\n",
    "print(data.head())"
   ]
  },
  {
   "cell_type": "code",
   "execution_count": 6,
   "metadata": {},
   "outputs": [
    {
     "name": "stdout",
     "output_type": "stream",
     "text": [
      "<class 'pandas.core.frame.DataFrame'>\n",
      "RangeIndex: 1000 entries, 0 to 999\n",
      "Data columns (total 15 columns):\n",
      "Unnamed: 0                     1000 non-null int64\n",
      "User_ID                        1000 non-null object\n",
      "Age                            1000 non-null int64\n",
      "Gender                         1000 non-null object\n",
      "Location                       1000 non-null object\n",
      "Income                         1000 non-null int64\n",
      "Interests                      1000 non-null object\n",
      "Last_Login_Days_Ago            1000 non-null int64\n",
      "Purchase_Frequency             1000 non-null int64\n",
      "Average_Order_Value            1000 non-null int64\n",
      "Total_Spending                 1000 non-null int64\n",
      "Product_Category_Preference    1000 non-null object\n",
      "Time_Spent_on_Site_Minutes     1000 non-null int64\n",
      "Pages_Viewed                   1000 non-null int64\n",
      "Newsletter_Subscription        1000 non-null bool\n",
      "dtypes: bool(1), int64(9), object(5)\n",
      "memory usage: 110.4+ KB\n",
      "None\n",
      "        Unnamed: 0          Age         Income  Last_Login_Days_Ago  \\\n",
      "count  1000.000000  1000.000000    1000.000000          1000.000000   \n",
      "mean    499.500000    40.986000   81304.732000            15.586000   \n",
      "std     288.819436    13.497852   37363.972753             8.205604   \n",
      "min       0.000000    18.000000   20155.000000             1.000000   \n",
      "25%     249.750000    29.000000   48715.500000             8.000000   \n",
      "50%     499.500000    42.000000   81042.000000            16.000000   \n",
      "75%     749.250000    52.000000  112694.500000            23.000000   \n",
      "max     999.000000    64.000000  149951.000000            29.000000   \n",
      "\n",
      "       Purchase_Frequency  Average_Order_Value  Total_Spending  \\\n",
      "count         1000.000000          1000.000000     1000.000000   \n",
      "mean             4.631000           104.039000     2552.957000   \n",
      "std              2.837762            54.873569     1420.985048   \n",
      "min              0.000000            10.000000      112.000000   \n",
      "25%              2.000000            58.000000     1271.750000   \n",
      "50%              5.000000           105.000000     2542.000000   \n",
      "75%              7.000000           150.000000     3835.500000   \n",
      "max              9.000000           199.000000     4999.000000   \n",
      "\n",
      "       Time_Spent_on_Site_Minutes  Pages_Viewed  \n",
      "count                 1000.000000    1000.00000  \n",
      "mean                   297.360000      24.40300  \n",
      "std                    175.596123      14.02017  \n",
      "min                      2.000000       1.00000  \n",
      "25%                    144.000000      12.00000  \n",
      "50%                    292.500000      24.50000  \n",
      "75%                    449.250000      36.00000  \n",
      "max                    599.000000      49.00000  \n"
     ]
    }
   ],
   "source": [
    "# 查看数据的基本信息\n",
    "print(data.info())\n",
    "\n",
    "# 查看数据的描述性统计\n",
    "print(data.describe())"
   ]
  },
  {
   "cell_type": "code",
   "execution_count": 7,
   "metadata": {},
   "outputs": [
    {
     "name": "stdout",
     "output_type": "stream",
     "text": [
      "缺失值统计：\n",
      "Unnamed: 0                     0\n",
      "User_ID                        0\n",
      "Age                            0\n",
      "Gender                         0\n",
      "Location                       0\n",
      "Income                         0\n",
      "Interests                      0\n",
      "Last_Login_Days_Ago            0\n",
      "Purchase_Frequency             0\n",
      "Average_Order_Value            0\n",
      "Total_Spending                 0\n",
      "Product_Category_Preference    0\n",
      "Time_Spent_on_Site_Minutes     0\n",
      "Pages_Viewed                   0\n",
      "Newsletter_Subscription        0\n",
      "dtype: int64\n"
     ]
    }
   ],
   "source": [
    "# 检查缺失值\n",
    "missing_values = data.isnull().sum()\n",
    "print(\"缺失值统计：\")\n",
    "print(missing_values)"
   ]
  },
  {
   "cell_type": "code",
   "execution_count": 8,
   "metadata": {},
   "outputs": [
    {
     "name": "stdout",
     "output_type": "stream",
     "text": [
      "重复值数量： 0\n"
     ]
    }
   ],
   "source": [
    "# 检查重复值\n",
    "duplicates = data.duplicated().sum()\n",
    "print(\"重复值数量：\", duplicates)"
   ]
  },
  {
   "cell_type": "code",
   "execution_count": 9,
   "metadata": {},
   "outputs": [
    {
     "data": {
      "text/plain": [
       "<Figure size 640x480 with 1 Axes>"
      ]
     },
     "metadata": {},
     "output_type": "display_data"
    }
   ],
   "source": [
    "import seaborn as sns\n",
    "import matplotlib.pyplot as plt\n",
    "\n",
    "# 检查数值型列的异常值（以 'Average_Order_Value' 为例）\n",
    "sns.boxplot(x=data['Average_Order_Value'])\n",
    "plt.title('Boxplot of Average Order Value')\n",
    "plt.show()"
   ]
  },
  {
   "cell_type": "code",
   "execution_count": 11,
   "metadata": {},
   "outputs": [],
   "source": [
    "# 删除缺失值\n",
    "data = data.dropna()\n",
    "\n",
    "# 或者填充缺失值（例如用中位数填充）\n",
    "# data = data.fillna(data.median())"
   ]
  },
  {
   "cell_type": "code",
   "execution_count": 12,
   "metadata": {},
   "outputs": [],
   "source": [
    "# 删除重复值\n",
    "data = data.drop_duplicates()"
   ]
  },
  {
   "cell_type": "code",
   "execution_count": 13,
   "metadata": {},
   "outputs": [],
   "source": [
    "from scipy import stats\n",
    "\n",
    "# 使用 Z-score 方法处理异常值（以 'Average_Order_Value' 为例）\n",
    "z_scores = stats.zscore(data['Average_Order_Value'])\n",
    "data = data[(z_scores < 3) & (z_scores > -3)]"
   ]
  },
  {
   "cell_type": "code",
   "execution_count": 14,
   "metadata": {},
   "outputs": [
    {
     "name": "stdout",
     "output_type": "stream",
     "text": [
      "        Unnamed: 0          Age         Income  Last_Login_Days_Ago  \\\n",
      "count  1000.000000  1000.000000    1000.000000          1000.000000   \n",
      "mean    499.500000    40.986000   81304.732000            15.586000   \n",
      "std     288.819436    13.497852   37363.972753             8.205604   \n",
      "min       0.000000    18.000000   20155.000000             1.000000   \n",
      "25%     249.750000    29.000000   48715.500000             8.000000   \n",
      "50%     499.500000    42.000000   81042.000000            16.000000   \n",
      "75%     749.250000    52.000000  112694.500000            23.000000   \n",
      "max     999.000000    64.000000  149951.000000            29.000000   \n",
      "\n",
      "       Purchase_Frequency  Average_Order_Value  Total_Spending  \\\n",
      "count         1000.000000          1000.000000     1000.000000   \n",
      "mean             4.631000           104.039000     2552.957000   \n",
      "std              2.837762            54.873569     1420.985048   \n",
      "min              0.000000            10.000000      112.000000   \n",
      "25%              2.000000            58.000000     1271.750000   \n",
      "50%              5.000000           105.000000     2542.000000   \n",
      "75%              7.000000           150.000000     3835.500000   \n",
      "max              9.000000           199.000000     4999.000000   \n",
      "\n",
      "       Time_Spent_on_Site_Minutes  Pages_Viewed  \n",
      "count                 1000.000000    1000.00000  \n",
      "mean                   297.360000      24.40300  \n",
      "std                    175.596123      14.02017  \n",
      "min                      2.000000       1.00000  \n",
      "25%                    144.000000      12.00000  \n",
      "50%                    292.500000      24.50000  \n",
      "75%                    449.250000      36.00000  \n",
      "max                    599.000000      49.00000  \n"
     ]
    }
   ],
   "source": [
    "# 计算基本统计量\n",
    "print(data.describe())"
   ]
  },
  {
   "cell_type": "code",
   "execution_count": 15,
   "metadata": {},
   "outputs": [
    {
     "data": {
      "image/png": "[encoded data removed]",
      "text/plain": [
       "<Figure size 432x288 with 1 Axes>"
      ]
     },
     "metadata": {
      "needs_background": "light"
     },
     "output_type": "display_data"
    },
    {
     "data": {
      "image/png": "[encoded data removed]",
      "text/plain": [
       "<Figure size 432x288 with 1 Axes>"
      ]
     },
     "metadata": {
      "needs_background": "light"
     },
     "output_type": "display_data"
    }
   ],
   "source": [
    "# 绘制 'Average_Order_Value' 的分布图\n",
    "plt.hist(data['Average_Order_Value'], bins=20)\n",
    "plt.xlabel('Average Order Value')\n",
    "plt.ylabel('Frequency')\n",
    "plt.title('Distribution of Average Order Value')\n",
    "plt.show()\n",
    "\n",
    "# 绘制 'Total_Spending' 的分布图\n",
    "plt.hist(data['Total_Spending'], bins=20)\n",
    "plt.xlabel('Total Spending')\n",
    "plt.ylabel('Frequency')\n",
    "plt.title('Distribution of Total Spending')\n",
    "plt.show()"
   ]
  },
  {
   "cell_type": "code",
   "execution_count": null,
   "metadata": {},
   "outputs": [],
   "source": []
  },
  {
   "cell_type": "code",
   "execution_count": null,
   "metadata": {},
   "outputs": [],
   "source": []
  }
 ],
 "metadata": {
  "kernelspec": {
   "display_name": "Python 3",
   "language": "python",
   "name": "python3"
  },
  "language_info": {
   "codemirror_mode": {
    "name": "ipython",
    "version": 3
   },
   "file_extension": ".py",
   "mimetype": "text/x-python",
   "name": "python",
   "nbconvert_exporter": "python",
   "pygments_lexer": "ipython3",
   "version": "3.7.0"
  }
 },
 "nbformat": 4,
 "nbformat_minor": 2
}
